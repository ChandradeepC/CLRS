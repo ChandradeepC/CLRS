{
 "cells": [
  {
   "cell_type": "code",
   "execution_count": 1,
   "metadata": {},
   "outputs": [],
   "source": [
    "import math"
   ]
  },
  {
   "cell_type": "code",
   "execution_count": 85,
   "metadata": {},
   "outputs": [],
   "source": [
    "#Insertion Sort\n",
    "def INSERTION_SORT(A, low, high): #O(n**2)\n",
    "    for i in range(low+1,high):\n",
    "        key = A[i]\n",
    "        #Assume the left hand side is sorted\n",
    "        j = i - 1\n",
    "        while j > -1 and A[j] > key:\n",
    "            A[j+1] = A[j]\n",
    "            j = j - 1\n",
    "        A[j+1] = key\n",
    "    \n",
    "    return A"
   ]
  },
  {
   "cell_type": "code",
   "execution_count": 86,
   "metadata": {},
   "outputs": [
    {
     "data": {
      "text/plain": [
       "[-100, 0.5, 1, 2, 3, 4, 5, 6, 6, 6.7, 7]"
      ]
     },
     "execution_count": 86,
     "metadata": {},
     "output_type": "execute_result"
    }
   ],
   "source": [
    "#Testing\n",
    "A = [5,2,4,6,1,3,6,7,0.5,-100,6.7]\n",
    "INSERTION_SORT(A, 0, len(A))"
   ]
  },
  {
   "cell_type": "code",
   "execution_count": 39,
   "metadata": {},
   "outputs": [],
   "source": [
    "#Merge Sort (Divide and Conquer)\n",
    "def MERGE(A, low, mid, high): #O(n)\n",
    "    n = mid - low + 1\n",
    "    m = high - mid\n",
    "    L = [None]*(n+1)\n",
    "    R = [None]*(m+1)\n",
    "\n",
    "    for i in range(0,n):\n",
    "        L[i] = A[low + i] #Differs here\n",
    "    for j in range(0,m):\n",
    "        R[j] = A[mid+j+1] #Differs here\n",
    "    L[n] = math.inf\n",
    "    R[m] = math.inf\n",
    "\n",
    "    print(L)\n",
    "    print(R)\n",
    "\n",
    "    i = 0\n",
    "    j = 0\n",
    "\n",
    "    for k in range(low, high+1): #Differs here\n",
    "        if L[i] <= R[j]:\n",
    "            A[k] = L[i]\n",
    "            i += 1\n",
    "        else:\n",
    "            A[k] = R[j]\n",
    "            j+= 1\n",
    "    print(A)\n",
    "\n",
    "def MERGE_SORT(A, low, high): #O(n log n)\n",
    "    if low < high:\n",
    "        mid = (low+high)//2\n",
    "        MERGE_SORT(A,low,mid)\n",
    "        MERGE_SORT(A,mid+1,high)\n",
    "        MERGE(A,low,mid,high)\n",
    "    \n",
    "    return A"
   ]
  },
  {
   "cell_type": "code",
   "execution_count": 40,
   "metadata": {},
   "outputs": [
    {
     "name": "stdout",
     "output_type": "stream",
     "text": [
      "[2, inf]\n",
      "[4, inf]\n",
      "[2, 4, 5, 7, 1, 2, 3, 6]\n",
      "[5, inf]\n",
      "[7, inf]\n",
      "[2, 4, 5, 7, 1, 2, 3, 6]\n",
      "[2, 4, inf]\n",
      "[5, 7, inf]\n",
      "[2, 4, 5, 7, 1, 2, 3, 6]\n",
      "[1, inf]\n",
      "[2, inf]\n",
      "[2, 4, 5, 7, 1, 2, 3, 6]\n",
      "[3, inf]\n",
      "[6, inf]\n",
      "[2, 4, 5, 7, 1, 2, 3, 6]\n",
      "[1, 2, inf]\n",
      "[3, 6, inf]\n",
      "[2, 4, 5, 7, 1, 2, 3, 6]\n",
      "[2, 4, 5, 7, inf]\n",
      "[1, 2, 3, 6, inf]\n",
      "[1, 2, 2, 3, 4, 5, 6, 7]\n"
     ]
    },
    {
     "data": {
      "text/plain": [
       "[1, 2, 2, 3, 4, 5, 6, 7]"
      ]
     },
     "execution_count": 40,
     "metadata": {},
     "output_type": "execute_result"
    }
   ],
   "source": [
    "#Testing\n",
    "A = [2,4,5,7,1,2,3,6]\n",
    "MERGE_SORT(A, 0, len(A)-1)"
   ]
  },
  {
   "cell_type": "code",
   "execution_count": 93,
   "metadata": {},
   "outputs": [],
   "source": [
    "#Max-heap\n",
    "#parent = floor(i/2)\n",
    "#left child = 2i + 1\n",
    "#right child = 2i+ 2\n",
    "#Max heap property: A[parent(i)] >= A[i]\n",
    "\n",
    "\n",
    "class MAX_HEAP:\n",
    "\n",
    "    def __init__(self, array, heap_size):\n",
    "        self.array = array\n",
    "        self.heap_size = heap_size\n",
    "    \n",
    "    def LEFT(self,i):\n",
    "        return 2*i + 1\n",
    "    \n",
    "    def RIGHT(self,i):\n",
    "        return 2*i + 2\n",
    "    \n",
    "    def PARENT(self, i):\n",
    "        return (i-1)//2\n",
    "\n",
    "    def MAX_HEAPIFY(self, i): #O(log n)\n",
    "        l = self.LEFT(i)\n",
    "        r = self.RIGHT(i)\n",
    "        if l < self.heap_size and self.array[l] > self.array[i]:\n",
    "            argmax = l\n",
    "        else:\n",
    "            argmax = i\n",
    "        \n",
    "        if r < self.heap_size and self.array[r] > self.array[argmax]:\n",
    "            argmax = r\n",
    "        \n",
    "        if argmax != i:\n",
    "            self.array[i], self.array[argmax] = self.array[argmax], self.array[i]\n",
    "            self.MAX_HEAPIFY(argmax)\n",
    "    \n",
    "    def BUILD_MAX_HEAP(self): #O(n)\n",
    "        self.heap_size = len(self.array)\n",
    "        for i in range((len(self.array)-1)//2,-1,-1): #ignoring all the leaves? \n",
    "            self.MAX_HEAPIFY(i)\n",
    "    \n",
    "    def HEAPSORT(self): #O(n log n)\n",
    "        self.BUILD_MAX_HEAP() \n",
    "        for i in range(len(self.array)-1, 0, -1):\n",
    "            self.array[0], self.array[i] = self.array[i], self.array[0]\n",
    "            self.heap_size -= 1\n",
    "            self.MAX_HEAPIFY(0) # n-1 * O(log n) = O(n log n)\n",
    "    \n",
    "    #Priority Queue Methods\n",
    "    def MAX(self):\n",
    "        return self.array[0]\n",
    "    \n",
    "    def POP(self): #O(log n)\n",
    "        if self.heap_size < 1:\n",
    "            print(\"heap underflow\")\n",
    "            return\n",
    "        max = self.MAX()\n",
    "        self.array[0] = self.array[self.heap_size-1]\n",
    "        self.heap_size -= 1\n",
    "        self.MAX_HEAPIFY(0) #O(log n)\n",
    "        return max\n",
    "    \n",
    "    def INCREASE_KEY(self,i,key): #O(log n)\n",
    "        if key < self.array[i]:\n",
    "            print(\"new key is smaller\")\n",
    "            return\n",
    "        self.array[i] = key\n",
    "        while i > 0 and self.array[self.PARENT(i)] < self.array[i]:\n",
    "            self.array[i], self.array[self.PARENT(i)] = self.array[self.PARENT(i)],  self.array[i]\n",
    "            i = self.PARENT(i)\n",
    "\n",
    "    def INSERT(self,key): #O(log n)\n",
    "        self.heap_size += 1\n",
    "        self.array.append(-math.inf)\n",
    "        self.INCREASE_KEY(self.heap_size-1,key) #O(log n)\n",
    "    \n",
    "    def DELETE(self,i): #O(log n)\n",
    "        self.heap_size -=1\n",
    "        self.array[i] = -math.inf\n",
    "        self.array[i], self.array[self.heap_size] = self.array[self.heap_size], self.array[i]\n",
    "        self.array = self.array[0:self.heap_size]\n",
    "        self.MAX_HEAPIFY(i) #O(log n)\n",
    "\n",
    "    #To Consider: d-ary heap, "
   ]
  },
  {
   "cell_type": "code",
   "execution_count": 95,
   "metadata": {},
   "outputs": [
    {
     "name": "stdout",
     "output_type": "stream",
     "text": [
      "[16, 14, 10, 8, 7, 9, 3, 2, 4, 1]\n"
     ]
    },
    {
     "data": {
      "text/plain": [
       "[16, 14, 10, 4, 7, 9, 3, 2, 1]"
      ]
     },
     "execution_count": 95,
     "metadata": {},
     "output_type": "execute_result"
    }
   ],
   "source": [
    "#Testing\n",
    "B = [4,1,3,2,16,9,10,14,8,7]\n",
    "H = MAX_HEAP(B,len(B))\n",
    "H.BUILD_MAX_HEAP()\n",
    "print(H.array)\n",
    "H.DELETE(3)\n",
    "H.array"
   ]
  },
  {
   "cell_type": "code",
   "execution_count": 97,
   "metadata": {},
   "outputs": [],
   "source": [
    "#Application: merge k sorted lists into one sorted list with min-heap\n",
    "import heapq as hq"
   ]
  },
  {
   "cell_type": "code",
   "execution_count": 111,
   "metadata": {},
   "outputs": [],
   "source": [
    "def MERGE_K(lists): #O(n log k)\n",
    "    k = len(lists)\n",
    "    heap = []\n",
    "    result = []\n",
    "    for i in range(k): #O(k) time\n",
    "        heap.append(lists[i][0])\n",
    "    hq.heapify(heap) #O(k) time\n",
    "    \n",
    "    while len(heap) > 0: #O(n log k)\n",
    "        min = hq.heappop(heap) #O(log k) n times \n",
    "        result.append(min)\n",
    "        \n",
    "        for j in range(k): #O(log k) n times\n",
    "            if lists[j][0] == min:\n",
    "                hq.heappop(lists[j]) #O(log k)\n",
    "                if len(lists[j]) == 0:\n",
    "                    lists.pop(j)\n",
    "                    break\n",
    "                else:\n",
    "                    hq.heappush(heap,lists[j][0]) #O(log k)\n",
    "                    break\n",
    "    \n",
    "    return result\n"
   ]
  },
  {
   "cell_type": "code",
   "execution_count": 112,
   "metadata": {},
   "outputs": [
    {
     "data": {
      "text/plain": [
       "[1, 1, 2, 2, 3, 3, 4, 5, 6, 7, 7, 8, 10]"
      ]
     },
     "execution_count": 112,
     "metadata": {},
     "output_type": "execute_result"
    }
   ],
   "source": [
    "lists = [[1,4,7],[3,5],[2,6,7],[1,2,3,8,10]]\n",
    "MERGE_K(lists)"
   ]
  },
  {
   "cell_type": "code",
   "execution_count": 88,
   "metadata": {},
   "outputs": [],
   "source": [
    "#Quicksort, BUGGED IN CLRS and Wikipedia\n",
    "def PARTITION(A, low, high): #LOMUTO PARTITION\n",
    "    pivot = A[high]\n",
    "    i = low-1\n",
    "    \n",
    "    for j in range(low, high): #Take special note of these two lines\n",
    "        if A[j] < pivot: #Take special note of these two lines\n",
    "            i += 1\n",
    "            A[i], A[j] = A[j], A[i]\n",
    "    \n",
    "    A[i+1], A[high] = A[high], A[i+1]\n",
    "    return i+1\n",
    "\n",
    "def QUICKSORT(A, low, high):\n",
    "    if low < high:\n",
    "        print(A[low:high])\n",
    "        x = PARTITION(A, low, high) #O(n)\n",
    "        print(A[low:high])\n",
    "        QUICKSORT(A,low,x-1)\n",
    "        QUICKSORT(A,x+1,high)\n",
    "\n",
    "from random import randint, sample\n",
    "\n",
    "def RANDOM_PARTITION(A, low, high): #Better average running time and used more practically\n",
    "    x = randint(low,high)\n",
    "    A[x], A[high] = A[high], A[x]\n",
    "    return PARTITION(A,low,high)\n",
    "\n",
    "def RANDOM_QUICKSORT(A,low,high):\n",
    "    if low < high:\n",
    "        print(A[low:high])\n",
    "        x = RANDOM_PARTITION(A, low, high) #O(n)\n",
    "        print(A[low:high])\n",
    "        RANDOM_QUICKSORT(A,low,x-1)\n",
    "        RANDOM_QUICKSORT(A,x+1,high)\n",
    "\n",
    "from statistics import median\n",
    "\n",
    "def MEDIAN_RANDOM_PARTITION(A, low, high):\n",
    "    x,y,z = sample(range(low,high+1),3)\n",
    "    x = median([x,y,z])\n",
    "    A[x], A[high] = A[high], A[x]\n",
    "    return PARTITION(A,low,high)\n",
    "\n",
    "#Application- hybrid + tail recursive + 3-median\n",
    "def OPTIMIZED_QUICKSORT(A, low, high): #O(nk + nlog(n/k)) = O(nk)\n",
    "    #Function does not have global minima over reals, analysis depends on hidden constants\n",
    "    while low < high:\n",
    "        if (high - low + 1) < 8: \n",
    "            INSERTION_SORT(A,low,high+1) #O(n^2) but reduces number of comparisons in almost sorted array\n",
    "            #Take note of the +1\n",
    "            break\n",
    "        else:\n",
    "            #Only one recursive call using tail recursion\n",
    "            x = MEDIAN_RANDOM_PARTITION(A, low, high) #O(n)\n",
    "            OPTIMIZED_QUICKSORT(A,low,x-1)\n",
    "            low = x+1"
   ]
  },
  {
   "cell_type": "code",
   "execution_count": 89,
   "metadata": {},
   "outputs": [
    {
     "data": {
      "text/plain": [
       "[-10, -2.3, -2.3, -0.45, 0.5, 0.51, 1, 2, 3, 4, 4.5, 5, 6, 7, 8, 10, 100]"
      ]
     },
     "execution_count": 89,
     "metadata": {},
     "output_type": "execute_result"
    }
   ],
   "source": [
    "A = [2,7,8,1,3,5,6,4,10,-10,0.5,4.5, -2.3, -2.3, 100, 0.51, -0.45]\n",
    "OPTIMIZED_QUICKSORT(A,0,len(A)-1) #needs to be len A - 1, it needs the highest index\n",
    "A"
   ]
  },
  {
   "cell_type": "code",
   "execution_count": null,
   "metadata": {},
   "outputs": [],
   "source": []
  }
 ],
 "metadata": {
  "kernelspec": {
   "display_name": "Python 3",
   "language": "python",
   "name": "python3"
  },
  "language_info": {
   "codemirror_mode": {
    "name": "ipython",
    "version": 3
   },
   "file_extension": ".py",
   "mimetype": "text/x-python",
   "name": "python",
   "nbconvert_exporter": "python",
   "pygments_lexer": "ipython3",
   "version": "3.9.16"
  },
  "orig_nbformat": 4,
  "vscode": {
   "interpreter": {
    "hash": "a665b5d41d17b532ea9890333293a1b812fa0b73c9c25c950b3cedf1bebd0438"
   }
  }
 },
 "nbformat": 4,
 "nbformat_minor": 2
}
