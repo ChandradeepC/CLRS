{
 "cells": [
  {
   "cell_type": "code",
   "execution_count": 37,
   "metadata": {},
   "outputs": [],
   "source": [
    "#Stacks LIFO\n",
    "\n",
    "class STACK:\n",
    "\n",
    "    def __init__(self):\n",
    "        self.array = []\n",
    "        self.top = 0\n",
    "    \n",
    "    def STACK_EMPTY(self):\n",
    "        return self.top == 0\n",
    "\n",
    "    def PUSH(self,x):\n",
    "        self.top += 1\n",
    "        if len(self.array) < self.top: #Take note here\n",
    "            self.array.append(x)\n",
    "        else: \n",
    "            self.array[self.top-1] = x #and here \n",
    "    \n",
    "    def POP(self):\n",
    "        if self.STACK_EMPTY():\n",
    "            print(\"underflow\")\n",
    "        else: \n",
    "            self.top -= 1\n",
    "\n",
    "\n",
    "    def display(self):\n",
    "        return self.array[:self.top]\n",
    "    "
   ]
  },
  {
   "cell_type": "code",
   "execution_count": 40,
   "metadata": {},
   "outputs": [
    {
     "name": "stdout",
     "output_type": "stream",
     "text": [
      "3\n",
      "2\n",
      "4\n"
     ]
    },
    {
     "data": {
      "text/plain": [
       "[1, 2, 4, 6]"
      ]
     },
     "execution_count": 40,
     "metadata": {},
     "output_type": "execute_result"
    }
   ],
   "source": [
    "S = STACK()\n",
    "S.PUSH(1)\n",
    "S.PUSH(2)\n",
    "S.PUSH(3)\n",
    "print(S.top)\n",
    "S.POP()\n",
    "print(S.top)\n",
    "S.PUSH(4)\n",
    "S.PUSH(5)\n",
    "S.POP()\n",
    "S.PUSH(6)\n",
    "print(S.top)\n",
    "S.display()"
   ]
  },
  {
   "cell_type": "code",
   "execution_count": 23,
   "metadata": {},
   "outputs": [],
   "source": [
    "#Non recursively reversing a singly linked list in expected O(n) time and O(1) storage.\n",
    "\n",
    "class NODE:\n",
    "\n",
    "    def __init__(self,key,next=None):\n",
    "        self.key = key\n",
    "        self.next = next\n",
    "    \n",
    "    def __str__(self):\n",
    "        return str(self.key)\n",
    "\n",
    "class LIST:\n",
    "\n",
    "    def __init__(self,values=None):\n",
    "        self.head = None\n",
    "        self.tail = None\n",
    "\n",
    "        if values:\n",
    "            self.MULTI_INSERT(values)\n",
    "    \n",
    "    def INSERT(self,value):\n",
    "        \n",
    "        if not self.head:\n",
    "            self.tail = self.head = NODE(value)\n",
    "        else:\n",
    "            self.tail.next = NODE(value)\n",
    "            self.tail = self.tail.next \n",
    "    \n",
    "    def MULTI_INSERT(self,values):\n",
    "        for value in values:\n",
    "            self.INSERT(value)\n",
    "    \n",
    "    def __iter__(self):\n",
    "        current = self.head\n",
    "        while current:\n",
    "            yield current\n",
    "            current = current.next \n",
    "\n",
    "    def __str__(self):\n",
    "        return ' -> '.join([str(node) for node in self])\n",
    "    \n",
    "    def REVERSE(self): #3 pointer approach was correct just needed to print it correctly\n",
    "        curr = self.head\n",
    "        next = None\n",
    "        prev = None\n",
    "\n",
    "        while curr:\n",
    "            next = curr.next\n",
    "            curr.next = prev\n",
    "            prev = curr\n",
    "            curr = next\n",
    "        \n",
    "        self.head = prev\n",
    "\n",
    "            "
   ]
  },
  {
   "cell_type": "code",
   "execution_count": 27,
   "metadata": {},
   "outputs": [
    {
     "name": "stdout",
     "output_type": "stream",
     "text": [
      "6 -> 5 -> 4 -> 3 -> 2\n"
     ]
    }
   ],
   "source": [
    "A = LIST([2,3,4,5,6])\n",
    "A.REVERSE()\n",
    "print(A)"
   ]
  }
 ],
 "metadata": {
  "kernelspec": {
   "display_name": "Python 3",
   "language": "python",
   "name": "python3"
  },
  "language_info": {
   "codemirror_mode": {
    "name": "ipython",
    "version": 3
   },
   "file_extension": ".py",
   "mimetype": "text/x-python",
   "name": "python",
   "nbconvert_exporter": "python",
   "pygments_lexer": "ipython3",
   "version": "3.9.16"
  },
  "orig_nbformat": 4,
  "vscode": {
   "interpreter": {
    "hash": "a665b5d41d17b532ea9890333293a1b812fa0b73c9c25c950b3cedf1bebd0438"
   }
  }
 },
 "nbformat": 4,
 "nbformat_minor": 2
}
