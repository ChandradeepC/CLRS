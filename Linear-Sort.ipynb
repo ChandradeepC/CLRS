{
 "cells": [
  {
   "cell_type": "code",
   "execution_count": 40,
   "metadata": {},
   "outputs": [
    {
     "ename": "SyntaxError",
     "evalue": "invalid syntax (1624414866.py, line 2)",
     "output_type": "error",
     "traceback": [
      "\u001b[1;36m  File \u001b[1;32m\"C:\\Users\\chand\\AppData\\Local\\Temp\\ipykernel_16820\\1624414866.py\"\u001b[1;36m, line \u001b[1;32m2\u001b[0m\n\u001b[1;33m    from Comparison-Sort import *\u001b[0m\n\u001b[1;37m                   ^\u001b[0m\n\u001b[1;31mSyntaxError\u001b[0m\u001b[1;31m:\u001b[0m invalid syntax\n"
     ]
    }
   ],
   "source": [
    "import math"
   ]
  },
  {
   "cell_type": "code",
   "execution_count": 29,
   "metadata": {},
   "outputs": [],
   "source": [
    "#Counting Sort\n",
    "def COUNTING_SORT(A,k):\n",
    "    B = [None]*len(A)\n",
    "    C = [0]*(k+1) #Take note\n",
    "    for j in range(0,len(A)): #O(n)\n",
    "        C[A[j]] = C[A[j]] + 1 #Counting the number of elements equal to index\n",
    "    \n",
    "    print(C)\n",
    "    #Cumulative sum to determine number of elements leq to index\n",
    "    for i in range(1,k+1): #O(k)\n",
    "        C[i] = C[i] + C[i-1]\n",
    "    print(C)\n",
    "    #Entering in to correct sorted position in B\n",
    "    for j in range(len(A)-1, -1, -1): #O(n)\n",
    "        B[C[A[j]]-1] = A[j] #Take note\n",
    "        C[A[j]] -= 1\n",
    "    \n",
    "    for i in range(0,len(A)):\n",
    "        A[i] = B[i]"
   ]
  },
  {
   "cell_type": "code",
   "execution_count": 30,
   "metadata": {},
   "outputs": [
    {
     "name": "stdout",
     "output_type": "stream",
     "text": [
      "[2, 0, 2, 3, 0, 1]\n",
      "[2, 2, 4, 7, 7, 8]\n"
     ]
    },
    {
     "data": {
      "text/plain": [
       "[0, 0, 2, 2, 3, 3, 3, 5]"
      ]
     },
     "execution_count": 30,
     "metadata": {},
     "output_type": "execute_result"
    }
   ],
   "source": [
    "A = [2,5,3,0,2,3,0,3]\n",
    "B = [None]*(len(A))\n",
    "\n",
    "COUNTING_SORT(A, 5)\n",
    "A"
   ]
  },
  {
   "cell_type": "code",
   "execution_count": 37,
   "metadata": {},
   "outputs": [],
   "source": [
    "#Radix Sort: Fucking useless and cannot be implemented so easily"
   ]
  },
  {
   "cell_type": "code",
   "execution_count": 42,
   "metadata": {},
   "outputs": [],
   "source": [
    "#Imported Insertion Sort\n",
    "def INSERTION_SORT(A, low, high): #O(n**2)\n",
    "    for i in range(low+1,high):\n",
    "        key = A[i]\n",
    "        #Assume the left hand side is sorted\n",
    "        j = i - 1\n",
    "        while j > -1 and A[j] > key:\n",
    "            A[j+1] = A[j]\n",
    "            j = j - 1\n",
    "        A[j+1] = key\n",
    "    \n",
    "    return A"
   ]
  },
  {
   "cell_type": "code",
   "execution_count": 51,
   "metadata": {},
   "outputs": [],
   "source": [
    "#Bucket Sort: Assume input comes from uniform distribution from [0,1)\n",
    "\n",
    "def BUCKET_SORT(A):\n",
    "    B = [[] for i in range(len(A))] #Be very careful \n",
    "\n",
    "    for i in range(len(A)):\n",
    "        B[math.floor(len(A)*A[i])].append(A[i])\n",
    "\n",
    "    X = []\n",
    "\n",
    "    print(B)\n",
    "\n",
    "    for i in range(len(A)):\n",
    "        B[i] = INSERTION_SORT(B[i], 0, len(B[i]))\n",
    "        X += B[i]\n",
    "    \n",
    "    for i in range(len(A)):\n",
    "        A[i] = X[i]\n"
   ]
  },
  {
   "cell_type": "code",
   "execution_count": 52,
   "metadata": {},
   "outputs": [
    {
     "name": "stdout",
     "output_type": "stream",
     "text": [
      "[[], [0.17, 0.12], [0.26, 0.21, 0.23], [0.39], [], [], [0.68], [0.78, 0.72], [], [0.94]]\n"
     ]
    },
    {
     "data": {
      "text/plain": [
       "[0.12, 0.17, 0.21, 0.23, 0.26, 0.39, 0.68, 0.72, 0.78, 0.94]"
      ]
     },
     "execution_count": 52,
     "metadata": {},
     "output_type": "execute_result"
    }
   ],
   "source": [
    "A = [.78,.17,.39,.26,.72,.94,.21,.12,.23,.68]\n",
    "BUCKET_SORT(A)\n",
    "A"
   ]
  }
 ],
 "metadata": {
  "kernelspec": {
   "display_name": "Python 3",
   "language": "python",
   "name": "python3"
  },
  "language_info": {
   "codemirror_mode": {
    "name": "ipython",
    "version": 3
   },
   "file_extension": ".py",
   "mimetype": "text/x-python",
   "name": "python",
   "nbconvert_exporter": "python",
   "pygments_lexer": "ipython3",
   "version": "3.9.16"
  },
  "orig_nbformat": 4,
  "vscode": {
   "interpreter": {
    "hash": "a665b5d41d17b532ea9890333293a1b812fa0b73c9c25c950b3cedf1bebd0438"
   }
  }
 },
 "nbformat": 4,
 "nbformat_minor": 2
}
