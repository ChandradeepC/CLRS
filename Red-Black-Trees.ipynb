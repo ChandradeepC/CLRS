{
 "cells": [
  {
   "cell_type": "code",
   "execution_count": null,
   "metadata": {},
   "outputs": [],
   "source": [
    "#Balanced binary search tree using red and black colors\n",
    "#Red-black properties:\n",
    "#1. Every node is either red or black\n",
    "#2. The root is black\n",
    "#3. Every NIL leaf is black\n",
    "#4. If node is red, then both children are black\n",
    "#5. For every node, all simple paths from node to descendant contain same number of black nodes. \n",
    "\n",
    "#Maximum Height: 2log(n+1)\n",
    "#Other variants: AVL trees with 1.5 log(n) \n",
    "#Persistent Trees\n",
    "#etc. "
   ]
  }
 ],
 "metadata": {
  "kernelspec": {
   "display_name": "Python 3.9.13 ('base')",
   "language": "python",
   "name": "python3"
  },
  "language_info": {
   "name": "python",
   "version": "3.9.13"
  },
  "orig_nbformat": 4,
  "vscode": {
   "interpreter": {
    "hash": "bd3f1da8f6b2e069fa79ea943cb28ac35c78b055477c15e9cfb0a47fe444e79b"
   }
  }
 },
 "nbformat": 4,
 "nbformat_minor": 2
}
