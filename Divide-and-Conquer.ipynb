{
 "cells": [
  {
   "cell_type": "code",
   "execution_count": 1,
   "metadata": {},
   "outputs": [],
   "source": [
    "import sys\n",
    "import math \n",
    "sys.setrecursionlimit(100000)"
   ]
  },
  {
   "cell_type": "code",
   "execution_count": 4,
   "metadata": {},
   "outputs": [],
   "source": [
    "#Maximum Sum Sub-Array\n",
    "\n",
    "def MAX_CROSSING_SUBARRAY(A, low, high, mid): # O(n)\n",
    "    leftindex = 0\n",
    "    rightindex = 0\n",
    "    #Left \n",
    "    leftsum = -10000\n",
    "    sum = 0\n",
    "    for i in range(mid, low, -1):\n",
    "        sum = sum + A[i]\n",
    "        if sum > leftsum:\n",
    "            leftsum = sum\n",
    "            leftindex = i\n",
    "    #Right\n",
    "    rightsum = -10000\n",
    "    sum = 0\n",
    "    for i in range(mid+1,high):\n",
    "        sum = sum + A[i]\n",
    "        if sum > rightsum: \n",
    "            rightsum = sum\n",
    "            rightindex = i\n",
    "    return leftindex, rightindex, leftsum + rightsum\n",
    "\n",
    "def MAX_SUBARRAY(A, low, high): #O(n)\n",
    "    #base case:\n",
    "    if high == low:\n",
    "        return low, high, A[low-1]\n",
    "    #recursive case:\n",
    "    else:\n",
    "        mid = (low + high)//2\n",
    "        leftlow, lefthigh, leftsum = MAX_SUBARRAY(A, low, mid)\n",
    "        rightlow, righthigh, rightsum = MAX_SUBARRAY(A, mid+1, high)\n",
    "        crosslow, crosshigh, crosssum = MAX_CROSSING_SUBARRAY(A, low, high, mid)\n",
    "        if leftsum > rightsum and leftsum > crosssum:\n",
    "            return leftlow, lefthigh, leftsum\n",
    "        elif rightsum > leftsum and rightsum > crosssum:\n",
    "            return rightlow, righthigh, rightsum\n",
    "        else:\n",
    "            return crosslow, crosshigh, crosssum\n"
   ]
  },
  {
   "cell_type": "code",
   "execution_count": 6,
   "metadata": {},
   "outputs": [
    {
     "name": "stdout",
     "output_type": "stream",
     "text": [
      "(7, 10, 43)\n",
      "(3, 3, 3)\n"
     ]
    }
   ],
   "source": [
    "#Testing\n",
    "A = [13,-3,-25,20,-3,-16,-23,18,20,-7,12,-5,-22,15,-4,7]\n",
    "B = [1,-4,3,-4]\n",
    "print(MAX_SUBARRAY(A, 0, len(A)-1))\n",
    "print(MAX_SUBARRAY(B, 0, len(B)-1))"
   ]
  },
  {
   "cell_type": "code",
   "execution_count": null,
   "metadata": {},
   "outputs": [],
   "source": [
    "#To consider: Strassen's algorithm"
   ]
  }
 ],
 "metadata": {
  "kernelspec": {
   "display_name": "Python 3",
   "language": "python",
   "name": "python3"
  },
  "language_info": {
   "codemirror_mode": {
    "name": "ipython",
    "version": 3
   },
   "file_extension": ".py",
   "mimetype": "text/x-python",
   "name": "python",
   "nbconvert_exporter": "python",
   "pygments_lexer": "ipython3",
   "version": "3.9.16"
  },
  "orig_nbformat": 4,
  "vscode": {
   "interpreter": {
    "hash": "a665b5d41d17b532ea9890333293a1b812fa0b73c9c25c950b3cedf1bebd0438"
   }
  }
 },
 "nbformat": 4,
 "nbformat_minor": 2
}
