{
 "cells": [
  {
   "cell_type": "code",
   "execution_count": 1,
   "metadata": {},
   "outputs": [],
   "source": [
    "import math"
   ]
  },
  {
   "cell_type": "code",
   "execution_count": 2,
   "metadata": {},
   "outputs": [],
   "source": [
    "def MINIMUM(A): #n-1 comparisons , O(n)\n",
    "    min = A[0]\n",
    "    for i in range(1,len(A)):\n",
    "        if min > A[i]:\n",
    "            min = A[i]\n",
    "    return min"
   ]
  },
  {
   "cell_type": "code",
   "execution_count": 3,
   "metadata": {},
   "outputs": [
    {
     "data": {
      "text/plain": [
       "0.11"
      ]
     },
     "execution_count": 3,
     "metadata": {},
     "output_type": "execute_result"
    }
   ],
   "source": [
    "A = [1,3,4,5,6,7.8,0.11,3,24]\n",
    "MINIMUM(A)"
   ]
  },
  {
   "cell_type": "code",
   "execution_count": 9,
   "metadata": {},
   "outputs": [],
   "source": [
    "#SELCTION PROBLEM. suppose distinct and linear expected running time\n",
    "from random import randint\n",
    "\n",
    "def PARTITION(A, low, high): #LOMUTO PARTITION\n",
    "    pivot = A[high]\n",
    "    i = low-1\n",
    "    \n",
    "    for j in range(low, high): #Take special note of these two lines\n",
    "        if A[j] < pivot: #Take special note of these two lines\n",
    "            i += 1\n",
    "            A[i], A[j] = A[j], A[i]\n",
    "    \n",
    "    A[i+1], A[high] = A[high], A[i+1]\n",
    "    return i+1    \n",
    "\n",
    "def RANDOM_PARTITION(A, low, high): #Better average running time and used more practically\n",
    "    x = randint(low,high)\n",
    "    A[x], A[high] = A[high], A[x]\n",
    "    return PARTITION(A,low,high)\n",
    "\n",
    "def RANDOMIZED_SELECT(A,low,high,i): #expected linear time\n",
    "    if low == high:\n",
    "        return A[low]\n",
    "    \n",
    "    pivot = RANDOM_PARTITION(A,low,high)\n",
    "    k = pivot - low + 1\n",
    "\n",
    "    if i == k:\n",
    "        return A[pivot]\n",
    "    elif i < k:\n",
    "        return RANDOMIZED_SELECT(A,low,pivot-1,i)\n",
    "    else:\n",
    "        return RANDOMIZED_SELECT(A,pivot+1,high,i-k)"
   ]
  },
  {
   "cell_type": "code",
   "execution_count": 10,
   "metadata": {},
   "outputs": [
    {
     "data": {
      "text/plain": [
       "1"
      ]
     },
     "execution_count": 10,
     "metadata": {},
     "output_type": "execute_result"
    }
   ],
   "source": [
    "A = [1,0.11, 0.13,2,3,4,5,6,6.5,78,65]\n",
    "RANDOMIZED_SELECT(A,0,len(A)-1,3)"
   ]
  },
  {
   "cell_type": "code",
   "execution_count": 101,
   "metadata": {},
   "outputs": [
    {
     "name": "stdout",
     "output_type": "stream",
     "text": [
      "low: 0 high: 19 stat: 8 array: [1, 0.11, 0.13, 2, 3, 0.45, 3.456, 4, 4.5, 5, 5.11, 5.55, 6.5, 78, 5.67, 5.66, 9.09, 20, 65, 6] element: 4\n",
      "low: 0 high: 8 stat: 3 array: [0.11, 0.13, 0.45, 2, 3, 1, 3.456, 4, 4.5, 5, 5.11, 5.55, 6.5, 78, 5.67, 5.66, 9.09, 20, 65, 6] element: 0.45\n",
      "low: 3 high: 8 stat: 3 array: [0.11, 0.13, 0.45, 2, 1, 3, 3.456, 4, 4.5, 5, 5.11, 5.55, 6.5, 78, 5.67, 5.66, 9.09, 20, 65, 6] element: 3\n",
      "low: 8 high: 19 stat: 6 array: [0.11, 0.13, 0.45, 2, 1, 3, 3.456, 4, 4.5, 5, 5.11, 5.55, 5.66, 5.67, 6, 6.5, 9.09, 20, 65, 78] element: 5.67\n",
      "low: 8 high: 14 stat: 3 array: [0.11, 0.13, 0.45, 2, 1, 3, 3.456, 4, 4.5, 5, 5.11, 5.55, 5.66, 5.67, 6, 6.5, 9.09, 20, 65, 78] element: 5.11\n",
      "low: 14 high: 19 stat: 3 array: [0.11, 0.13, 0.45, 2, 1, 3, 3.456, 4, 4.5, 5, 5.11, 5.55, 5.66, 5.67, 6, 6.5, 9.09, 20, 65, 78] element: 9.09\n"
     ]
    },
    {
     "data": {
      "text/plain": [
       "[4, 0.45, 3, 5.67, 5.11, 9.09]"
      ]
     },
     "execution_count": 101,
     "metadata": {},
     "output_type": "execute_result"
    }
   ],
   "source": [
    "#Applications\n",
    "\n",
    "def K_QUANTILES(A,low,high,k, Q): #Would be nlogn with sorting and division but can be done in nlogk time\n",
    "    if k == 1:\n",
    "        return\n",
    "    else:\n",
    "        n = high-low+1\n",
    "        i = math.floor(k/2)\n",
    "        statistic = math.floor(i*n/k)\n",
    "        x = RANDOMIZED_SELECT(A, low, high, statistic) #This partitions it as well along x\n",
    "        print(\"low:\",low,\"high:\",high,\"stat:\",statistic,\"array:\",A, \"element:\",x)\n",
    "        Q.append(x)\n",
    "        #MOD_PARTITION(A, low, high, x)\n",
    "        K_QUANTILES(A, low, low+statistic, math.floor(k/2), Q) #Fuck this was hard\n",
    "  \n",
    "        K_QUANTILES(A, low+statistic, high, math.ceil(k/2), Q) #But i figured it out myself\n",
    "        #overall error is always within 2\n",
    "\n",
    "A = [1,0.11, 0.13,2,3,4.5,5,6,6.5,78,65,5.55,4,5.11, 5.67, 5.66, 9.09, 20,0.45, 3.456]\n",
    "Q = []\n",
    "K_QUANTILES(A, 0, len(A)-1, 7, Q)\n",
    "Q"
   ]
  },
  {
   "cell_type": "code",
   "execution_count": 1,
   "metadata": {},
   "outputs": [
    {
     "name": "stdout",
     "output_type": "stream",
     "text": [
      "[1, 12, 15, 26, 38] [2, 13, 17, 30, 45] 15 17\n",
      "[15, 26, 38] [2, 13, 17] 26 13\n",
      "[15, 26] [13, 17] 20.5 15.0\n"
     ]
    },
    {
     "data": {
      "text/plain": [
       "16.0"
      ]
     },
     "execution_count": 1,
     "metadata": {},
     "output_type": "execute_result"
    }
   ],
   "source": [
    "#Median of 2 sorted arrays in O(log n) time\n",
    "#CLRS median definition is weird\n",
    "#Correct median + Correct Implementation for two arrays of size n with log(n) time\n",
    "import math\n",
    "from statistics import median\n",
    "\n",
    "def slice(X,k): #absolutely insane step\n",
    "    if len(X) % 2 == 0:\n",
    "        return X[:k//2]\n",
    "    else:\n",
    "        return X[:k//2 + 1]\n",
    "\n",
    "def MEDIAN_2(X,Y): #O(log n)\n",
    "\n",
    "    print(X,Y, median(X),median(Y))\n",
    "\n",
    "    if len(X) <= 2:\n",
    "        return (max(X[0],Y[0]) + min(X[1],Y[1])) / 2\n",
    "    elif median(X) < median(Y):\n",
    "        return MEDIAN_2(X[(len(X))//2:], slice(Y,len(Y)))\n",
    "    else:\n",
    "        return MEDIAN_2(slice(X,len(X)), Y[(len(Y))//2:])\n",
    "\n",
    "\n",
    "X = [1,12,15,26,38]\n",
    "Y = [2,13,17,30,45]\n",
    "MEDIAN_2(X,Y)"
   ]
  },
  {
   "cell_type": "code",
   "execution_count": 2,
   "metadata": {},
   "outputs": [
    {
     "name": "stdout",
     "output_type": "stream",
     "text": [
      "[0.1, 0.35, 0.05, 0.1, 0.15, 0.05, 0.2] [0.05, 0.05, 0.05, 0.7, 0.05, 0.05, 0.05]\n",
      "[0.1, 0.05, 0.35, 0.1, 0.15, 0.05, 0.2] [0.05, 0.05, 0.05, 0.7, 0.05, 0.05, 0.05]\n",
      "[0.1, 0.05, 0.1, 0.35, 0.15, 0.05, 0.2] [0.05, 0.05, 0.7, 0.05, 0.05, 0.05, 0.05]\n",
      "[0.1, 0.05, 0.1, 0.15, 0.35, 0.05, 0.2] [0.05, 0.05, 0.7, 0.05, 0.05, 0.05, 0.05]\n",
      "[0.1, 0.05, 0.1, 0.15, 0.05, 0.35, 0.2] [0.05, 0.05, 0.7, 0.05, 0.05, 0.05, 0.05]\n",
      "[0.1, 0.05, 0.1, 0.15, 0.05, 0.2, 0.35] [0.05, 0.05, 0.7, 0.05, 0.05, 0.05, 0.05]\n",
      "0.2 [0.1, 0.05, 0.1, 0.15, 0.05, 0.2, 0.35] [0.05, 0.05, 0.7, 0.05, 0.05, 0.05, 0.05] 0 7 0.9 0.05 \n",
      "\n",
      "[0.05, 0.05, 0.1, 0.15, 0.1, 0.2, 0.35] [0.05, 0.05, 0.7, 0.05, 0.05, 0.05, 0.05]\n",
      "[0.05, 0.05, 0.1, 0.15, 0.1, 0.2, 0.35] [0.05, 0.05, 0.7, 0.05, 0.05, 0.05, 0.05]\n",
      "[0.05, 0.05, 0.1, 0.15, 0.1, 0.2, 0.35] [0.05, 0.05, 0.05, 0.05, 0.7, 0.05, 0.05]\n",
      "0.1 [0.05, 0.05, 0.1, 0.15, 0.1, 0.2, 0.35] [0.05, 0.05, 0.05, 0.05, 0.7, 0.05, 0.05] 0 5 0.1 0.85 \n",
      "\n",
      "[0.05, 0.05, 0.1, 0.1, 0.15, 0.2, 0.35] [0.05, 0.05, 0.05, 0.7, 0.05, 0.05, 0.05]\n",
      "[0.05, 0.05, 0.1, 0.1, 0.15, 0.2, 0.35] [0.05, 0.05, 0.05, 0.7, 0.05, 0.05, 0.05]\n",
      "0.15 [0.05, 0.05, 0.1, 0.1, 0.15, 0.2, 0.35] [0.05, 0.05, 0.05, 0.7, 0.05, 0.05, 0.05] 3 5 0.85 0.1 \n",
      "\n",
      "[0.05, 0.05, 0.1, 0.1, 0.15, 0.2, 0.35] [0.05, 0.05, 0.05, 0.7, 0.05, 0.05, 0.05]\n",
      "0.1 [0.05, 0.05, 0.1, 0.1, 0.15, 0.2, 0.35] [0.05, 0.05, 0.05, 0.7, 0.05, 0.05, 0.05] 3 4 0.15000000000000002 0.15000000000000002 \n",
      "\n"
     ]
    },
    {
     "data": {
      "text/plain": [
       "0.1"
      ]
     },
     "execution_count": 2,
     "metadata": {},
     "output_type": "execute_result"
    }
   ],
   "source": [
    "#Oil company determine best fit line in O(n) time\n",
    "#x axis does not matter, just find the y medians in linear time. \n",
    "\n",
    "#Weighted median\n",
    "#Using n log n sorting algorithm - trivial \n",
    "#Using expected linear time select algorithm \n",
    "\n",
    "from random import randint\n",
    "\n",
    "def WEIGHTED_PARTITION(A, W, low, high): #LOMUTO PARTITION\n",
    "    pivot = A[high-1]\n",
    "    i = low-1\n",
    "    \n",
    "    for j in range(low, high-1): #Take special note of these two lines\n",
    "        if A[j] < pivot: #Take special note of these two lines\n",
    "            i += 1\n",
    "            A[i], A[j] = A[j], A[i]\n",
    "            W[i], W[j] = W[j], W[i]\n",
    "            print(A,W)\n",
    "    \n",
    "    A[i+1], A[high-1] = A[high-1], A[i+1]\n",
    "    W[i+1], W[high-1] = W[high-1], W[i+1]\n",
    "    print(A, W)\n",
    "    return i+1\n",
    "\n",
    "def WEIGHTED_RANDOM_PARTITION(A, W, low, high): #Better average running time and used more practically\n",
    "    x = randint(low,high-1)\n",
    "    A[x], A[high-1] = A[high-1], A[x]\n",
    "    W[x], W[high-1] = W[high-1], W[x]\n",
    "    return WEIGHTED_PARTITION(A, W, low,high)\n",
    "\n",
    "\n",
    "def WEIGHTED_MEDIAN(X,W, low, high, l, r): #Expected linear time\n",
    "    if low == high:\n",
    "        return X[low]\n",
    "    \n",
    "    pivot = WEIGHTED_RANDOM_PARTITION(X,W,low,high) \n",
    "\n",
    "    lsum = sum(W[low:pivot])\n",
    "    usum = sum(W[pivot+1:high])\n",
    "\n",
    "    print (X[pivot], X, W, low,high, lsum+l, usum+r, \"\\n\")\n",
    "\n",
    "    if lsum + l < 0.5 and usum + r <= 0.5:\n",
    "        return X[pivot]\n",
    "    elif lsum + l < 0.5 and usum + r > 0.5:\n",
    "        return WEIGHTED_MEDIAN(X,W,pivot+1,high,l+lsum+W[pivot],r)\n",
    "    elif lsum + l >= 0.5 and usum + r <= 0.5:\n",
    "        return WEIGHTED_MEDIAN(X,W,low,pivot,l,r+usum+W[pivot])\n",
    "    \n",
    "X = [0.1,0.35,0.05,0.1,0.15,0.05,0.2]\n",
    "W = [0.1,0.35,0.05,0.1,0.15,0.05,0.2]\n",
    "W2 = [0.05,0.05,0.05,0.7,0.05,0.05,0.05]\n",
    "\n",
    "WEIGHTED_MEDIAN(X,W2,0,len(X),0,0)"
   ]
  },
  {
   "cell_type": "code",
   "execution_count": null,
   "metadata": {},
   "outputs": [],
   "source": [
    "#Post office location: talk to RTD\n",
    "#weighted median will solve all dimensions with L1 norm. \n"
   ]
  }
 ],
 "metadata": {
  "kernelspec": {
   "display_name": "Python 3",
   "language": "python",
   "name": "python3"
  },
  "language_info": {
   "codemirror_mode": {
    "name": "ipython",
    "version": 3
   },
   "file_extension": ".py",
   "mimetype": "text/x-python",
   "name": "python",
   "nbconvert_exporter": "python",
   "pygments_lexer": "ipython3",
   "version": "3.9.12 (main, Mar 26 2022, 15:44:31) \n[Clang 13.1.6 (clang-1316.0.21.2)]"
  },
  "orig_nbformat": 4,
  "vscode": {
   "interpreter": {
    "hash": "a665b5d41d17b532ea9890333293a1b812fa0b73c9c25c950b3cedf1bebd0438"
   }
  }
 },
 "nbformat": 4,
 "nbformat_minor": 2
}
